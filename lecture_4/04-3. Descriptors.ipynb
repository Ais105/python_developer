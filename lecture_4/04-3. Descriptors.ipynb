{
 "cells": [
  {
   "cell_type": "markdown",
   "metadata": {},
   "source": [
    "# Дескрипторы\n",
    "\n",
    "https://habr.com/ru/post/122082/\n",
    "\n",
    "Чтобы понять, что такое дескриптор, обратимся к документации питона:\n",
    "\n",
    "In general, a descriptor is an object attribute with “binding behavior”, one whose attribute access has been overridden by methods in the descriptor protocol. Those methods are `__get__()`, `__set__()`, and `__delete__()`. If any of those methods are defined for an object, it is said to be a descriptor.\n",
    "\n",
    "### Что это означает\n",
    "\n",
    "Дескриптор - это любой объект, который \"привязывается\" к объекту класса в виде атрибута это класса, при условии, если в нём определен способ этого привязывания - методы `__get__()`, `__set__()` и `__delete__()`.\n",
    "\n",
    "### Когда это происходит\n",
    "\n",
    "Эти методы вызываются тогда, когда мы обращаемся к дескриптору через объект класса и точку: `obj.our_descriptor_attr`.\n",
    "\n",
    "### Нюансы\n",
    "\n",
    "- Если определен один из перечисленных методов - объект считается дескриптором;\n",
    "- если объект дескриптора определяет `__get__`, `__set__` - data дескриптором;\n",
    "- если объект дескриптора определяет `__get__` - non-data дескриптором.\n",
    "\n",
    "Они отличаются приоритетом вызова по отношению к полю `__dict__`.\n",
    "\n",
    "## Data-дескриптор"
   ]
  },
  {
   "cell_type": "code",
   "execution_count": null,
   "metadata": {},
   "outputs": [],
   "source": [
    "class DataDescriptor:\n",
    "    def __get__(self, obj, cls):\n",
    "        print(\"__get__\")\n",
    "        print(f\"Вызов из объекта: {obj}\")\n",
    "        print(f\"Класс вызывающего объекта: {cls}\")\n",
    "        print()\n",
    "\n",
    "    def __set__(self, obj, val):\n",
    "        print(\"__set__\")\n",
    "        print(f\"Присвоение значения {val} объекту {obj}\")\n",
    "        print()\n",
    "\n",
    "    def __delete__(self, obj):\n",
    "        print(\"__del__\")\n",
    "        print(f\"Удаляем атрибут из объекта {obj}\")\n",
    "        print()\n",
    "\n",
    "\n",
    "class SomeData:\n",
    "    data = DataDescriptor()\n",
    "\n",
    "\n",
    "d = SomeData()\n",
    "SomeData.data  # вот тут будет вызван __get__ с obj None\n",
    "d.data\n",
    "d.data = 1\n",
    "del d.data"
   ]
  },
  {
   "cell_type": "markdown",
   "metadata": {},
   "source": [
    "Видим, что при обращении к дескриптору срабатывают его магические методы. Однако стоит понимать, что они вызываются только тогда, когда обращение к атрибуту происходит через точку. Например, в следующем примере setter не будет вызван:"
   ]
  },
  {
   "cell_type": "code",
   "execution_count": null,
   "metadata": {},
   "outputs": [],
   "source": [
    "d.__dict__['data'] = 1\n",
    "d.data"
   ]
  },
  {
   "cell_type": "code",
   "execution_count": null,
   "metadata": {},
   "outputs": [],
   "source": [
    "d.__getattribute__(\"data\")"
   ]
  },
  {
   "cell_type": "markdown",
   "metadata": {},
   "source": [
    "Поскольку дескриптор - это поле класса, то присвоение в это поле любого другого объекта просто удалит ссылку на дескриптор:"
   ]
  },
  {
   "cell_type": "code",
   "execution_count": null,
   "metadata": {},
   "outputs": [],
   "source": [
    "SomeData.data = 1\n",
    "print(SomeData.data)\n",
    "print(d.data)\n",
    "print(SomeData().data)\n",
    "del SomeData.data\n",
    "print(SomeData.data)"
   ]
  },
  {
   "cell_type": "markdown",
   "metadata": {},
   "source": [
    "## Non-data дескриптор"
   ]
  },
  {
   "cell_type": "code",
   "execution_count": null,
   "metadata": {},
   "outputs": [],
   "source": [
    "class NonDataDescriptor:\n",
    "    def __get__(self, obj, cls):\n",
    "        print(f\"Вызов из объекта: {obj}\")\n",
    "        print(f\"Класс вызывающего объекта: {cls}\")\n",
    "        print()\n",
    "\n",
    "\n",
    "class SomeData:\n",
    "    data = NonDataDescriptor()\n",
    "\n",
    "\n",
    "d = SomeData()\n",
    "SomeData.data  # вот тут будет вызван __get__ с obj None\n",
    "d.data\n",
    "\n",
    "print(\"А теперь изменим d.data. Метод __set__ дескриптора не определен, поэтому ссылка в переменной d.data перезаписалась на 1:\")\n",
    "d.data = 1\n",
    "print(d.data)"
   ]
  },
  {
   "cell_type": "markdown",
   "metadata": {},
   "source": [
    "## Резюме\n",
    "\n",
    "- дескрипторы вызываются с помощью метода `__getattribute__`\n",
    "- переопределение `__getattribute__` прекратит автоматический вызов дескрипторов\n",
    "- `__getattribute__` доступен только внутри классов и объектов нового стиля\n",
    "- `object.__getattribute__` и `type.__getattribute__` делают разные вызовы к `__get__`\n",
    "- дескрипторы данных всегда имеют преимущество перед переменными объекта\n",
    "- дескрипторы не данных могут потерять преимущество из-за переменных объекта\n",
    "\n",
    "## Еще примеры\n",
    "### Классический дескриптор-логгер"
   ]
  },
  {
   "cell_type": "code",
   "execution_count": null,
   "metadata": {},
   "outputs": [],
   "source": [
    "class RevealAccess(object):\n",
    "    \"\"\"Дескриптор данных, который устанавливает и возвращает значения,\n",
    "       и печатает сообщение о том, что к атрибуту был доступ.\n",
    "    \"\"\"\n",
    "\n",
    "    def __init__(self, initval=None, name='атрибут'):\n",
    "        self.val = initval\n",
    "        self.name = name\n",
    "    \n",
    "    def __get__(self, obj, objtype):\n",
    "        print('Получаю', self.name)\n",
    "        return self.val\n",
    "\n",
    "    def __set__(self, obj, val):\n",
    "        print('Обновляю' , self.name)\n",
    "        self.val = val\n",
    "        \n",
    "\n",
    "class MyClass(object):\n",
    "    x = RevealAccess(10, 'атрибут \"x\"')\n",
    "    y = 5\n",
    "    \n",
    "    \n",
    "m = MyClass()\n",
    "print(m.x)\n",
    "\n",
    "m.x = 20\n",
    "print(m.x)\n",
    "\n",
    "print(m.y)"
   ]
  },
  {
   "cell_type": "markdown",
   "metadata": {},
   "source": [
    "## Зачем нужны дескрипторы\n",
    "\n",
    "В питоне многие вещи написаны с использованием дескрипторов, например, property. В общем случае это гибкий инструмент для работы с атрибутами класса со стороны самого атрибута, а встроенные решения предоставляют более высокоуровневый SDK к дескрипторам. Рассмотрим реализацию property:"
   ]
  },
  {
   "cell_type": "code",
   "execution_count": null,
   "metadata": {},
   "outputs": [],
   "source": [
    "\n",
    "class C:\n",
    "    def getx(self): return self._x\n",
    "\n",
    "    def setx(self, value): self._x = value\n",
    "\n",
    "    def delx(self): del self._x\n",
    "\n",
    "    x = property(getx, setx, delx, \"I'm the 'x' property.\")\n",
    "\n",
    "\n",
    "class Property:\n",
    "    \"Emulate PyProperty_Type() in Objects/descrobject.c\"\n",
    "\n",
    "    def __init__(self, fget=None, fset=None, fdel=None, doc=None):\n",
    "        self.fget = fget\n",
    "        self.fset = fset\n",
    "        self.fdel = fdel\n",
    "        if doc is None and fget is not None:\n",
    "            doc = fget.__doc__\n",
    "        self.__doc__ = doc\n",
    "\n",
    "    def __get__(self, obj, objtype=None):\n",
    "        if obj is None:\n",
    "            return self\n",
    "        if self.fget is None:\n",
    "            raise AttributeError(\"unreadable attribute\")\n",
    "        return self.fget(obj)\n",
    "\n",
    "    def __set__(self, obj, value):\n",
    "        if self.fset is None:\n",
    "            raise AttributeError(\"can't set attribute\")\n",
    "        self.fset(obj, value)\n",
    "\n",
    "    def __delete__(self, obj):\n",
    "        if self.fdel is None:\n",
    "            raise AttributeError(\"can't delete attribute\")\n",
    "        self.fdel(obj)\n",
    "\n",
    "\n",
    "class CWithDescriptor:\n",
    "    def getx(self): return self._x\n",
    "\n",
    "    def setx(self, value): self._x = value\n",
    "\n",
    "    def delx(self): del self._x\n",
    "\n",
    "    x = Property(getx, setx, delx, \"I'm the 'x' property.\")\n",
    "\n",
    "\n",
    "c = C()\n",
    "c1 = CWithDescriptor()\n",
    "c.x = 1\n",
    "c1.x = 1\n",
    "print('c.__dict__', c.__dict__)\n",
    "print('c1.__dict__', c1.__dict__)"
   ]
  },
  {
   "cell_type": "markdown",
   "metadata": {},
   "source": [
    "Staticmethod и classmethod - тоже дескрипторы."
   ]
  },
  {
   "cell_type": "code",
   "execution_count": null,
   "metadata": {},
   "outputs": [],
   "source": [
    "class E:\n",
    "    def f(x):\n",
    "        print(x)\n",
    "\n",
    "    f = staticmethod(f)\n",
    "\n",
    "\n",
    "class StaticMethod(object):\n",
    "    \"Emulate PyStaticMethod_Type() in Objects/funcobject.c\"\n",
    "\n",
    "    def __init__(self, f):\n",
    "        self.f = f\n",
    "\n",
    "    def __get__(self, obj, objtype=None):\n",
    "        return self.f\n",
    "\n",
    "\n",
    "class Analog:\n",
    "    @StaticMethod\n",
    "    def p():\n",
    "        print(\"hi\")\n",
    "        \n",
    "        \n",
    "Analog.p()"
   ]
  },
  {
   "cell_type": "code",
   "execution_count": null,
   "metadata": {},
   "outputs": [],
   "source": [
    "class ClassMethod(object):\n",
    "    \"Emulate PyClassMethod_Type() in Objects/funcobject.c\"\n",
    "\n",
    "    def __init__(self, f):\n",
    "        self.f = f\n",
    "\n",
    "    def __get__(self, obj, klass=None):\n",
    "        if klass is None:\n",
    "            klass = type(obj)\n",
    "\n",
    "        def newfunc(*args):\n",
    "            return self.f(klass, *args)\n",
    "\n",
    "        return newfunc\n",
    "    \n",
    "    \n",
    "class Analog:\n",
    "    @ClassMethod\n",
    "    def p(cls):\n",
    "        print(\"class is:\", cls)\n",
    "        \n",
    "        \n",
    "Analog.p()"
   ]
  },
  {
   "cell_type": "markdown",
   "metadata": {},
   "source": [
    "## Привязка методов\n",
    "\n",
    "Кстати говоря, если нам нужно вызывать один и тот же метод много раз, то быстрее будет его отвязать от объекта:"
   ]
  },
  {
   "cell_type": "code",
   "execution_count": null,
   "metadata": {},
   "outputs": [],
   "source": [
    "class A:\n",
    "    def foo(self):\n",
    "        pass\n",
    "\n",
    "\n",
    "a = A()\n",
    "binding = a.foo"
   ]
  },
  {
   "cell_type": "code",
   "execution_count": null,
   "metadata": {},
   "outputs": [],
   "source": [
    "%%timeit\n",
    "\n",
    "a.foo()"
   ]
  },
  {
   "cell_type": "code",
   "execution_count": null,
   "metadata": {},
   "outputs": [],
   "source": [
    "%%timeit\n",
    "\n",
    "binding()"
   ]
  },
  {
   "cell_type": "markdown",
   "metadata": {},
   "source": [
    "## Задание\n",
    "\n",
    "Написать дескриптор, который будет хранить значение, но по вызову метода `null` дескриптора все значения всех инициализированных дескрипторов обнулятся.\n",
    "\n",
    "Подсказка: для этого нужно хранить внутри дескриптора ссылки на все содержащие его классы и список названий атрибутов, в которых записана ссылка на дескриптор (названия можно получить, например, через `__dict__` объекта, сравнив класс атрибута с классом-дескриптором)."
   ]
  },
  {
   "cell_type": "code",
   "execution_count": null,
   "metadata": {},
   "outputs": [],
   "source": []
  }
 ],
 "metadata": {
  "kernelspec": {
   "display_name": "Python 3",
   "language": "python",
   "name": "python3"
  },
  "language_info": {
   "codemirror_mode": {
    "name": "ipython",
    "version": 3
   },
   "file_extension": ".py",
   "mimetype": "text/x-python",
   "name": "python",
   "nbconvert_exporter": "python",
   "pygments_lexer": "ipython3",
   "version": "3.6.5"
  }
 },
 "nbformat": 4,
 "nbformat_minor": 2
}
