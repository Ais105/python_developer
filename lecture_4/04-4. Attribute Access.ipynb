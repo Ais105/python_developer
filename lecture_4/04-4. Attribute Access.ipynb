{
 "cells": [
  {
   "cell_type": "markdown",
   "metadata": {},
   "source": [
    "# Методы доступа к атрибутам\n",
    "\n",
    "https://github.com/alexopryshko/advancedpython/tree/master/1\n",
    "\n",
    "В предыдущей теме были рассмотрены дескрипторы. Они позволяют переопределять доступ к атрибутам класса изнутри атрибута. Тем не менее в питоне есть еще группа магических методов, которые вызываются при доступе к атрибутам со стороны объекта вызывающего класса:\n",
    "\n",
    "- `__getattribute__(self, name)` - будет вызван при попытке получить значение атрибута. Если этот метод переопределён, стандартный механизм поиска значения атрибута не будет задействован. По умолчанию как раз он и лезет в `__dict__` объекта и вызывает в случае неудачи `__getattr__`:\n",
    "- `__getattr__(self, name)` - будет вызван в случае, если запрашиваемый атрибут не найден обычным механизмом (в `__dict__` экземпляра, класса и т.д.)\n",
    "- `__setattr__(self, name, value)` - будет вызван при попытке установить значение атрибута экземпляра. Если его переопределить, стандартный механизм установки значения не будет задействован.\n",
    "- `__delattr__(self, name)` - используется при удалении атрибута.\n",
    "\n",
    "В следующем примере показано, что `__getattr__` вызывается только тогда, когда стандартными средствами (заглянув в `__dict__` объекта и класса) найти атрибут не получается. При этом в нашем случае метод срабатывает для любых значений, не вызывая AttributeError"
   ]
  },
  {
   "cell_type": "code",
   "execution_count": null,
   "metadata": {},
   "outputs": [],
   "source": [
    "class A:\n",
    "    def __getattr__(self, attr):\n",
    "        print('__getattr__')\n",
    "        return 42\n",
    "\n",
    "    field = 'field'\n",
    "\n",
    "\n",
    "a = A()\n",
    "a.name = 'name'\n",
    "\n",
    "print(a.__dict__, A.__dict__, end='\\n\\n\\n')\n",
    "print('a.name', a.name, end='\\n\\n')\n",
    "print('a.field', a.field, end='\\n\\n')\n",
    "print('a.random', a.random, end='\\n\\n')"
   ]
  },
  {
   "cell_type": "markdown",
   "metadata": {},
   "source": [
    "А если переопределим `__getattribute__`, то даже на `__dict__` посмотреть не сможем."
   ]
  },
  {
   "cell_type": "code",
   "execution_count": null,
   "metadata": {},
   "outputs": [],
   "source": [
    "class A:\n",
    "    def __getattribute__(self, item):\n",
    "        print('__getattribute__')\n",
    "        return 42\n",
    "\n",
    "    def __len__(self):\n",
    "        return 0\n",
    "\n",
    "    def test(self):\n",
    "        print('test', self)\n",
    "\n",
    "    field = 'field'\n",
    "\n",
    "\n",
    "a = A()\n",
    "a.name = 'name'\n",
    "\n",
    "print('__dict__', getattr(a, \"__dict__\"), end='\\n\\n')\n",
    "print('a.name', a.name, end='\\n\\n')\n",
    "print('a.field', a.field, end='\\n\\n')\n",
    "print('a.random', a.random, end='\\n\\n')\n",
    "print('a.__len__', a.__len__, end='\\n\\n')\n",
    "print('len(a)', len(a), end='\\n\\n')\n",
    "print('type(a)...', type(a).__dict__['test'](a), end='\\n\\n')\n",
    "print('A.field', A.field, end='\\n\\n')\n"
   ]
  },
  {
   "cell_type": "markdown",
   "metadata": {},
   "source": [
    "Переопределяя `__setattr__`, рискуем не увидеть наши добавляемые атрибуты объекта в `__dict__`"
   ]
  },
  {
   "cell_type": "code",
   "execution_count": null,
   "metadata": {},
   "outputs": [],
   "source": [
    "class A:\n",
    "    def __setattr__(self, key, value):\n",
    "        print('__setattr__')\n",
    "\n",
    "    field = 'field'\n",
    "\n",
    "\n",
    "a = A()\n",
    "a.field = 1\n",
    "a.a = 1\n",
    "print('a.__dict__', a.__dict__, end='\\n\\n')\n",
    "A.field = 'new'\n",
    "print('A.field', A.field, end='\\n\\n')"
   ]
  },
  {
   "cell_type": "markdown",
   "metadata": {},
   "source": [
    "А таким образом можем разрешить нашему объекту возвращать только те атрибуты, название которых начинается на слово test. Теоретически, используя этот прием, можно реализовать истинно приватные атрибуты, но зачем?"
   ]
  },
  {
   "cell_type": "code",
   "execution_count": null,
   "metadata": {},
   "outputs": [],
   "source": [
    "class A:\n",
    "    def __getattribute__(self, item):\n",
    "        if 'test' in item or '__dict__' == item:\n",
    "            return super().__getattribute__(item)\n",
    "        else:\n",
    "            raise AttributeError\n",
    "\n",
    "\n",
    "a = A()\n",
    "a.test_name = 1\n",
    "a.name = 1\n",
    "print('a.__dict__', a.__dict__)\n",
    "print('a.test_name', a.test_name)\n",
    "print('a.name', a.name)"
   ]
  },
  {
   "cell_type": "markdown",
   "metadata": {},
   "source": [
    "## Общий алгоритм получения атрибута\n",
    "\n",
    "Чтобы получить значение атрибута attrname:\n",
    "- Если определён метод `a.__class__.__getattribute__()`, то вызывается он и возвращается полученное значение.\n",
    "- Если attrname это специальный (определённый python-ом) атрибут, такой как `__class__` или `__doc__`, возвращается его значение.\n",
    "- Проверяется `a.__class__.__dict__` на наличие записи с attrname. Если она существует и значением является data дескриптор, возвращается результат вызова метода `__get__()` дескриптора. Также проверяются все базовые классы.\n",
    "- Если в `a.__dict__` существует запись с именем attrname, возвращается значение этой записи.\n",
    "- Проверяется `a.__class__.__dict__`, если в нём существует запись с attrname и это non-data дескриптор, возвращается результат `__get__()` дескриптора, если запись существует и там не дескриптор, возвращается значение записи. Также обыскиваются базовые классы.\n",
    "- Если существует метод `a.__class__.__getattr__()`, он вызывается и возвращается его результат. Если такого метода нет — выкидывается `AttributeError`.\n",
    "\n",
    "## Общий алгоритм назначения атрибута\n",
    "\n",
    "Чтобы установить значение value атрибута attrname экземпляра a:\n",
    "- Если существует метод `a.__class__.__setattr__()`, он вызывается.\n",
    "- Проверяется `a.__class__.__dict__`, если в нём есть запись с attrname и это дескриптор данных — вызывается метод `__set__()` дескриптора. Также проверяются базовые классы.\n",
    "- `a.__dict__` добавляется запись value с ключом attrname."
   ]
  },
  {
   "cell_type": "markdown",
   "metadata": {},
   "source": [
    "## Задание\n",
    "\n",
    "Библиотека pandas предназначена для работы с табличными данными. В ней есть сущности DataFrame (по сути, сама таблица) и Series (колонка либо строка таблицы). У колонок внутри таблицы есть названия, притом получить колонку можно двумя способами:\n",
    "\n",
    "- `dataframe.colname`\n",
    "- `dataframe['colname']`\n",
    "\n",
    "Задание: реализовать структуру данных ключ-значение, где и присваивание, и получение элементов можно будет производить обоими этими способами."
   ]
  }
 ],
 "metadata": {
  "kernelspec": {
   "display_name": "Python 3",
   "language": "python",
   "name": "python3"
  },
  "language_info": {
   "codemirror_mode": {
    "name": "ipython",
    "version": 3
   },
   "file_extension": ".py",
   "mimetype": "text/x-python",
   "name": "python",
   "nbconvert_exporter": "python",
   "pygments_lexer": "ipython3",
   "version": "3.6.5"
  }
 },
 "nbformat": 4,
 "nbformat_minor": 2
}
